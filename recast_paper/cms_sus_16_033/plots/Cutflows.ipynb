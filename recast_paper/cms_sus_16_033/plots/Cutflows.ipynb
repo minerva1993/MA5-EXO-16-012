{
 "metadata": {
  "kernelspec": {
   "display_name": "Python 3",
   "language": "python",
   "name": "python3"
  },
  "language_info": {
   "codemirror_mode": {
    "name": "ipython",
    "version": 3
   },
   "file_extension": ".py",
   "mimetype": "text/x-python",
   "name": "python",
   "nbconvert_exporter": "python",
   "pygments_lexer": "ipython3",
   "version": "3.4.1"
  },
  "name": "",
  "signature": "sha256:5ec503bc9b1c41c9f4b52d6e52a507f673cae8723cfe118994b112b36c984a14"
 },
 "nbformat": 3,
 "nbformat_minor": 0,
 "worksheets": [
  {
   "cells": [
    {
     "cell_type": "code",
     "collapsed": true,
     "input": [
      "textfile = '/home/jory/bin/madanalysis5/ra2b/Output/SMS-GlGl_onejet_T1bbbb_1500_100/cms_sus_16_033_4/Cutflows/Nbjets_greater_than_or_equal_to_3__Njets_greater_than_or_equal_to_9__HT_greater_than_750__MHT_greater_than_750.saf'\n"
     ],
     "language": "python",
     "metadata": {},
     "outputs": [],
     "prompt_number": 9
    },
    {
     "cell_type": "code",
     "collapsed": false,
     "input": [
      "def read_cutflow_ma5(file, verbose=False):\n",
      "    cf = []\n",
      "    fi = open(file, 'r')\n",
      "    text = fi.read()\n",
      "    cuts = text.split('<Counter>')\n",
      "    for cut in cuts:\n",
      "        cut = cut.split()\n",
      "        eventindex = cut.index('nentries') -3\n",
      "        #print 'index:', eventindex\n",
      "        nevts = int(cut[eventindex])\n",
      "\n",
      "        cutname = ''.join(cut[:eventindex])\n",
      "        if 'Initial' in cutname:\n",
      "            cutnam = 'analyzed'\n",
      "            analyzed = nevts\n",
      "        cutnam = cutname[:cutname.index('#')].strip('\"')\n",
      "        cf.append({'analyzed': analyzed, 'cut': cutnam, 'evts': nevts})\n",
      "        if verbose:\n",
      "            print('cut:', cutnam)\n",
      "            print('# events:', nevts, '\\n')\n",
      "    return cf"
     ],
     "language": "python",
     "metadata": {},
     "outputs": [],
     "prompt_number": 10
    },
    {
     "cell_type": "code",
     "collapsed": false,
     "input": [
      "lumi = 20.2 * 1000.0# pb-1\n",
      "xsec =  1.2756920796493025E-003 #pb\n",
      "normevts = round(lumi*xsec, 2)\n",
      "print(normevts)"
     ],
     "language": "python",
     "metadata": {},
     "outputs": [
      {
       "output_type": "stream",
       "stream": "stdout",
       "text": [
        "25.77\n"
       ]
      }
     ],
     "prompt_number": 11
    },
    {
     "cell_type": "code",
     "collapsed": false,
     "input": [
      "cutflow = read_cutflow_ma5(textfile)\n",
      "print(cutflow)\n",
      "for cut in cutflow:\n",
      "    print cut['cut']\n",
      "for cut in cutflow:\n",
      "    if 'Initial' in cut['cut']:\n",
      "        cutn = 'Initial # of evts'\n",
      "    else:\n",
      "        cutn = cut['cut'].replace('muon', '$\\mu$').replace('b', '$b$')\n",
      "        cutn = cutn.replace('N', 'Number of').replace('_',  ' ').replace('pT', '$p_{\\mathrm{T}}$')\n",
      "    print(cutn.ljust(25) + '\\t' + str(cut['evts']))\n",
      "print('\\n\\n')\n",
      "if True:\n",
      "    analyzed = cut['analyzed']\n",
      "    cutflowfile = 'nmssm_bba2mu_cutflow.tex'\n",
      "    cuf = open(cutflowfile, 'w')\n",
      "    split = '\\t&\\t'\n",
      "    end = '\\t\\\\\\\\'\n",
      "    line =  'Cut name'.ljust(25) + split + 'CMS'.ljust(20) + split + 'MA5'.rjust(20) + end + '\\\\hline'\n",
      "    print(line)\n",
      "    cuf.write(line + '\\n')\n",
      "    line = 'Before cuts'.ljust(25) + split + str(normevts).ljust(20) + split + str(normevts).rjust(20) + end\n",
      "    cuf.write(line + '\\n')\n",
      "    print(line)\n",
      "    events_left = analyzed\n",
      " \n",
      "    for cut in cutflow[1:-1]:\n",
      "        abseff = cut['evts'] / analyzed\n",
      "        eff = cut['evts'] / events_left\n",
      "        events_left = cut['evts']\n",
      "        ma5 = str(round(abseff * normevts, 2)) + ' (' + str(round(eff*100.0, 2)) + '\\\\% of prev., '\n",
      "        ma5 += str(round(abseff*100.0,2)) + '\\\\% of tot.)'+ end\n",
      "        cutname = cut['cut']\n",
      "        #cutname = cut['cut'].replace('Lep', ' Lep').replace('Phot', ' Phot').replace('Jet', ' Jet')\n",
      "        #cutname = cutname.replace('>', '$>$').replace('<', '$<$').replace('ratio', ' ratio')\n",
      "        #cutname = cutname.replace('alphaT$', '$\\\\alpha_T').replace('HT$', '$H_T').replace('Eta$', ' $\\\\eta').replace('_', ' ')\n",
      "        if 'first' in cutname: \n",
      "            cms = '--'\n",
      "        else:\n",
      "            #print(cutname)\n",
      "            if 'second' in cutname:\n",
      "                cmseff = 0.0694\n",
      "                cmsabseff = 0.0694\n",
      "            elif 'N_b' in cutname or 'Number of b' in cutname:\n",
      "                cmseff = 0.181\n",
      "                cmsabseff = 0.0125\n",
      "            elif 'MET' in cutname:\n",
      "                cmseff = 0.876\n",
      "                cmsabseff = 0.01\n",
      "            \n",
      "            cms = str(round(cmsabseff * normevts, 2)) + ' (' + str(round(cmseff*100.0, 2)) + '\\\\% of prev., '\n",
      "            cms += str(round(cmsabseff*100.0, 2)) + '\\\\% of tot.)'\n",
      "        cutn = cutname.replace('muon', '$\\mu$').replace('b', '$b$').replace('N', 'Number of').replace('_',  ' ')\n",
      "        cutn = cutn.replace('pT', '$p_{\\mathrm{T}}$').replace('>', '$>$').replace('<', '$<$')\n",
      "        line = cutn.ljust(25) + split + cms.ljust(20) + split + ma5.rjust(20)\n",
      "        print(line)\n",
      "        cuf.write(line + '\\n')\n",
      "    cuf.close()\n",
      "        #print cut['cut'].ljust(20) + split + '--' + split + str(round(cut['evts'] / effs[sm][0]['analyzed'] * evts, 2)) + end\n",
      "    print('\\n')\n",
      "    #print 'cut:', cutnam\n",
      "    #print '# events:', nevts, '\\n'"
     ],
     "language": "python",
     "metadata": {},
     "outputs": [
      {
       "output_type": "stream",
       "stream": "stdout",
       "text": [
        "[{'analyzed': 2576, 'evts': 2576, 'cut': '<SAFheader></SAFheader><InitialCounter>\"Initialnumberofevents'}, {'analyzed': 2576, 'evts': 585, 'cut': 'Njets>=2'}, {'analyzed': 2576, 'evts': 585, 'cut': 'MHT>300GeV'}, {'analyzed': 2576, 'evts': 585, 'cut': 'HT>300GeV'}, {'analyzed': 2576, 'evts': 469, 'cut': 'NoLepton'}, {'analyzed': 2576, 'evts': 359, 'cut': 'ElectronIsoTrackVeto'}, {'analyzed': 2576, 'evts': 23, 'cut': 'MuonIsoTrackVeto'}, {'analyzed': 2576, 'evts': 23, 'cut': 'HadronIsoTrackVeto'}, {'analyzed': 2576, 'evts': 8, 'cut': 'MinDeltaPhi'}, {'analyzed': 2576, 'evts': 0, 'cut': 'NbJets3'}, {'analyzed': 2576, 'evts': 0, 'cut': 'NJets>=9'}, {'analyzed': 2576, 'evts': 0, 'cut': 'HT>750'}, {'analyzed': 2576, 'evts': 0, 'cut': 'MHT>750'}]\n",
        "<SAFheader></SAFheader><InitialCounter>\"Initialnumberofevents\n",
        "Njets>=2\n",
        "MHT>300GeV\n",
        "HT>300GeV\n",
        "NoLepton\n",
        "ElectronIsoTrackVeto\n",
        "MuonIsoTrackVeto\n",
        "HadronIsoTrackVeto\n",
        "MinDeltaPhi\n",
        "NbJets3\n",
        "NJets>=9\n",
        "HT>750\n",
        "MHT>750\n",
        "Initial # of evts        \t2576\n",
        "Number ofjets>=2         \t585\n",
        "MHT>300GeV               \t585\n",
        "HT>300GeV                \t585\n",
        "Number ofoLepton         \t469\n",
        "ElectronIsoTrackVeto     \t359\n",
        "MuonIsoTrackVeto         \t23\n",
        "HadronIsoTrackVeto       \t23\n",
        "MinDeltaPhi              \t8\n",
        "Number of$b$Jets3        \t0\n",
        "Number ofJets>=9         \t0\n",
        "HT>750                   \t0\n",
        "MHT>750                  \t0\n",
        "\n",
        "\n",
        "\n",
        "Cut name                 \t&\tCMS                 \t&\t                 MA5\t\\\\\\hline\n",
        "Before cuts              \t&\t25.77               \t&\t               25.77\t\\\\\n"
       ]
      },
      {
       "ename": "NameError",
       "evalue": "name 'cmsabseff' is not defined",
       "output_type": "pyerr",
       "traceback": [
        "\u001b[0;31m---------------------------------------------------------------------------\u001b[0m\n\u001b[0;31mNameError\u001b[0m                                 Traceback (most recent call last)",
        "\u001b[0;32m<ipython-input-13-034fa2bce047>\u001b[0m in \u001b[0;36m<module>\u001b[0;34m()\u001b[0m\n\u001b[1;32m     49\u001b[0m                 \u001b[0mcmsabseff\u001b[0m \u001b[0;34m=\u001b[0m \u001b[0;36m0.01\u001b[0m\u001b[0;34m\u001b[0m\u001b[0m\n\u001b[1;32m     50\u001b[0m \u001b[0;34m\u001b[0m\u001b[0m\n\u001b[0;32m---> 51\u001b[0;31m             \u001b[0mcms\u001b[0m \u001b[0;34m=\u001b[0m \u001b[0mstr\u001b[0m\u001b[0;34m(\u001b[0m\u001b[0mround\u001b[0m\u001b[0;34m(\u001b[0m\u001b[0mcmsabseff\u001b[0m \u001b[0;34m*\u001b[0m \u001b[0mnormevts\u001b[0m\u001b[0;34m,\u001b[0m \u001b[0;36m2\u001b[0m\u001b[0;34m)\u001b[0m\u001b[0;34m)\u001b[0m \u001b[0;34m+\u001b[0m \u001b[0;34m' ('\u001b[0m \u001b[0;34m+\u001b[0m \u001b[0mstr\u001b[0m\u001b[0;34m(\u001b[0m\u001b[0mround\u001b[0m\u001b[0;34m(\u001b[0m\u001b[0mcmseff\u001b[0m\u001b[0;34m*\u001b[0m\u001b[0;36m100.0\u001b[0m\u001b[0;34m,\u001b[0m \u001b[0;36m2\u001b[0m\u001b[0;34m)\u001b[0m\u001b[0;34m)\u001b[0m \u001b[0;34m+\u001b[0m \u001b[0;34m'\\\\% of prev., '\u001b[0m\u001b[0;34m\u001b[0m\u001b[0m\n\u001b[0m\u001b[1;32m     52\u001b[0m             \u001b[0mcms\u001b[0m \u001b[0;34m+=\u001b[0m \u001b[0mstr\u001b[0m\u001b[0;34m(\u001b[0m\u001b[0mround\u001b[0m\u001b[0;34m(\u001b[0m\u001b[0mcmsabseff\u001b[0m\u001b[0;34m*\u001b[0m\u001b[0;36m100.0\u001b[0m\u001b[0;34m,\u001b[0m \u001b[0;36m2\u001b[0m\u001b[0;34m)\u001b[0m\u001b[0;34m)\u001b[0m \u001b[0;34m+\u001b[0m \u001b[0;34m'\\\\% of tot.)'\u001b[0m\u001b[0;34m\u001b[0m\u001b[0m\n\u001b[1;32m     53\u001b[0m         \u001b[0mcutn\u001b[0m \u001b[0;34m=\u001b[0m \u001b[0mcutname\u001b[0m\u001b[0;34m.\u001b[0m\u001b[0mreplace\u001b[0m\u001b[0;34m(\u001b[0m\u001b[0;34m'muon'\u001b[0m\u001b[0;34m,\u001b[0m \u001b[0;34m'$\\mu$'\u001b[0m\u001b[0;34m)\u001b[0m\u001b[0;34m.\u001b[0m\u001b[0mreplace\u001b[0m\u001b[0;34m(\u001b[0m\u001b[0;34m'b'\u001b[0m\u001b[0;34m,\u001b[0m \u001b[0;34m'$b$'\u001b[0m\u001b[0;34m)\u001b[0m\u001b[0;34m.\u001b[0m\u001b[0mreplace\u001b[0m\u001b[0;34m(\u001b[0m\u001b[0;34m'N'\u001b[0m\u001b[0;34m,\u001b[0m \u001b[0;34m'Number of'\u001b[0m\u001b[0;34m)\u001b[0m\u001b[0;34m.\u001b[0m\u001b[0mreplace\u001b[0m\u001b[0;34m(\u001b[0m\u001b[0;34m'_'\u001b[0m\u001b[0;34m,\u001b[0m  \u001b[0;34m' '\u001b[0m\u001b[0;34m)\u001b[0m\u001b[0;34m\u001b[0m\u001b[0m\n",
        "\u001b[0;31mNameError\u001b[0m: name 'cmsabseff' is not defined"
       ]
      }
     ],
     "prompt_number": 13
    },
    {
     "cell_type": "code",
     "collapsed": true,
     "input": [],
     "language": "python",
     "metadata": {},
     "outputs": [],
     "prompt_number": 12
    },
    {
     "cell_type": "code",
     "collapsed": true,
     "input": [],
     "language": "python",
     "metadata": {},
     "outputs": [],
     "prompt_number": null
    }
   ],
   "metadata": {}
  }
 ]
}